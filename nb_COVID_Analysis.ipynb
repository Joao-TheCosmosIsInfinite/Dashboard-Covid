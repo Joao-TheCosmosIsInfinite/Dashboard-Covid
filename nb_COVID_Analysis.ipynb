{
 "cells": [
  {
   "cell_type": "markdown",
   "id": "055c5869",
   "metadata": {},
   "source": [
    "### Bibliotecas"
   ]
  },
  {
   "cell_type": "code",
   "execution_count": 1,
   "id": "7bbd4d10",
   "metadata": {},
   "outputs": [],
   "source": [
    "import pandas as pd\n",
    "import matplotlib.pyplot as plt\n",
    "import seaborn as sns\n",
    "import mysql.connector\n",
    "\n",
    "from mysql.connector import connect, Error\n",
    "\n",
    "import warnings\n",
    "warnings.filterwarnings(\"ignore\")"
   ]
  },
  {
   "cell_type": "markdown",
   "id": "344f5aa2",
   "metadata": {},
   "source": [
    "<p>Principais biliotecas e versoes utilizadas</p>"
   ]
  },
  {
   "cell_type": "code",
   "execution_count": 2,
   "id": "79ae0bd5",
   "metadata": {},
   "outputs": [
    {
     "name": "stdout",
     "output_type": "stream",
     "text": [
      "Author: Joao Paulo Ribeiro dos Santos\n",
      "\n",
      "pandas    : 1.2.4\n",
      "seaborn   : 0.11.1\n",
      "matplotlib: 3.3.4\n",
      "\n"
     ]
    }
   ],
   "source": [
    "%reload_ext watermark\n",
    "%watermark -a \"Joao Paulo Ribeiro dos Santos\" --iversions"
   ]
  },
  {
   "cell_type": "markdown",
   "id": "4b57aaef",
   "metadata": {},
   "source": [
    "### Importado Dados"
   ]
  },
  {
   "cell_type": "code",
   "execution_count": 3,
   "id": "ef86d3c4",
   "metadata": {},
   "outputs": [],
   "source": [
    "# String de Conexao\n",
    "config = {\n",
    "  'user': 'teste-dados-leitura',\n",
    "  'password': 'o7c4Cc8NDeXYbAMH',\n",
    "  'host': '35.199.76.222',\n",
    "  'database': 'teste_dados',\n",
    "  'raise_on_warnings': True\n",
    "}\n",
    "    \n",
    "cnx = mysql.connector.connect(**config)"
   ]
  },
  {
   "cell_type": "code",
   "execution_count": 4,
   "id": "10ea46cf",
   "metadata": {},
   "outputs": [],
   "source": [
    "# Querry e Dataframe gerado\n",
    "querry = '''\n",
    "select \n",
    "    date,\n",
    "    daily_confirmed_cases,\n",
    "    daily_deaths,\n",
    "    confirmed_cases,\n",
    "    deaths,\n",
    "    countries_and_territories, \n",
    "    geo_id\n",
    "from \n",
    "    DADOS_COVID\n",
    "'''\n",
    "\n",
    "df_covid_data = pd.read_sql_query(querry, cnx)\n",
    "cnx.close()"
   ]
  },
  {
   "cell_type": "code",
   "execution_count": 5,
   "id": "828e13a5",
   "metadata": {},
   "outputs": [
    {
     "data": {
      "text/html": [
       "<div>\n",
       "<style scoped>\n",
       "    .dataframe tbody tr th:only-of-type {\n",
       "        vertical-align: middle;\n",
       "    }\n",
       "\n",
       "    .dataframe tbody tr th {\n",
       "        vertical-align: top;\n",
       "    }\n",
       "\n",
       "    .dataframe thead th {\n",
       "        text-align: right;\n",
       "    }\n",
       "</style>\n",
       "<table border=\"1\" class=\"dataframe\">\n",
       "  <thead>\n",
       "    <tr style=\"text-align: right;\">\n",
       "      <th></th>\n",
       "      <th>date</th>\n",
       "      <th>daily_confirmed_cases</th>\n",
       "      <th>daily_deaths</th>\n",
       "      <th>confirmed_cases</th>\n",
       "      <th>deaths</th>\n",
       "      <th>countries_and_territories</th>\n",
       "      <th>geo_id</th>\n",
       "    </tr>\n",
       "  </thead>\n",
       "  <tbody>\n",
       "    <tr>\n",
       "      <th>0</th>\n",
       "      <td>2020-03-20</td>\n",
       "      <td>1</td>\n",
       "      <td>0</td>\n",
       "      <td>1</td>\n",
       "      <td>0</td>\n",
       "      <td>Chad</td>\n",
       "      <td>TD</td>\n",
       "    </tr>\n",
       "    <tr>\n",
       "      <th>1</th>\n",
       "      <td>2020-03-21</td>\n",
       "      <td>0</td>\n",
       "      <td>0</td>\n",
       "      <td>1</td>\n",
       "      <td>0</td>\n",
       "      <td>Chad</td>\n",
       "      <td>TD</td>\n",
       "    </tr>\n",
       "    <tr>\n",
       "      <th>2</th>\n",
       "      <td>2020-03-22</td>\n",
       "      <td>1</td>\n",
       "      <td>0</td>\n",
       "      <td>2</td>\n",
       "      <td>0</td>\n",
       "      <td>Chad</td>\n",
       "      <td>TD</td>\n",
       "    </tr>\n",
       "    <tr>\n",
       "      <th>3</th>\n",
       "      <td>2020-03-23</td>\n",
       "      <td>0</td>\n",
       "      <td>0</td>\n",
       "      <td>2</td>\n",
       "      <td>0</td>\n",
       "      <td>Chad</td>\n",
       "      <td>TD</td>\n",
       "    </tr>\n",
       "    <tr>\n",
       "      <th>4</th>\n",
       "      <td>2020-03-24</td>\n",
       "      <td>0</td>\n",
       "      <td>0</td>\n",
       "      <td>2</td>\n",
       "      <td>0</td>\n",
       "      <td>Chad</td>\n",
       "      <td>TD</td>\n",
       "    </tr>\n",
       "  </tbody>\n",
       "</table>\n",
       "</div>"
      ],
      "text/plain": [
       "         date  daily_confirmed_cases  daily_deaths  confirmed_cases  deaths  \\\n",
       "0  2020-03-20                      1             0                1       0   \n",
       "1  2020-03-21                      0             0                1       0   \n",
       "2  2020-03-22                      1             0                2       0   \n",
       "3  2020-03-23                      0             0                2       0   \n",
       "4  2020-03-24                      0             0                2       0   \n",
       "\n",
       "  countries_and_territories geo_id  \n",
       "0                      Chad     TD  \n",
       "1                      Chad     TD  \n",
       "2                      Chad     TD  \n",
       "3                      Chad     TD  \n",
       "4                      Chad     TD  "
      ]
     },
     "execution_count": 5,
     "metadata": {},
     "output_type": "execute_result"
    }
   ],
   "source": [
    "# Dados\n",
    "df_covid_data.head(5)"
   ]
  },
  {
   "cell_type": "markdown",
   "id": "63ed35ca",
   "metadata": {},
   "source": [
    "### Analisando os dados"
   ]
  },
  {
   "cell_type": "code",
   "execution_count": 6,
   "id": "8b1bc80a",
   "metadata": {},
   "outputs": [
    {
     "name": "stdout",
     "output_type": "stream",
     "text": [
      "<class 'pandas.core.frame.DataFrame'>\n",
      "RangeIndex: 61900 entries, 0 to 61899\n",
      "Data columns (total 7 columns):\n",
      " #   Column                     Non-Null Count  Dtype \n",
      "---  ------                     --------------  ----- \n",
      " 0   date                       61900 non-null  object\n",
      " 1   daily_confirmed_cases      61900 non-null  int64 \n",
      " 2   daily_deaths               61900 non-null  int64 \n",
      " 3   confirmed_cases            61900 non-null  int64 \n",
      " 4   deaths                     61900 non-null  int64 \n",
      " 5   countries_and_territories  61900 non-null  object\n",
      " 6   geo_id                     61900 non-null  object\n",
      "dtypes: int64(4), object(3)\n",
      "memory usage: 3.3+ MB\n"
     ]
    }
   ],
   "source": [
    "df_covid_data.info()"
   ]
  },
  {
   "cell_type": "code",
   "execution_count": 7,
   "id": "4cb95f89",
   "metadata": {},
   "outputs": [
    {
     "data": {
      "text/plain": [
       "date                         0\n",
       "daily_confirmed_cases        0\n",
       "daily_deaths                 0\n",
       "confirmed_cases              0\n",
       "deaths                       0\n",
       "countries_and_territories    0\n",
       "geo_id                       0\n",
       "dtype: int64"
      ]
     },
     "execution_count": 7,
     "metadata": {},
     "output_type": "execute_result"
    }
   ],
   "source": [
    "# Total de valores nulos\n",
    "df_covid_data.isnull().sum()"
   ]
  },
  {
   "cell_type": "code",
   "execution_count": 8,
   "id": "d907b1e9",
   "metadata": {},
   "outputs": [
    {
     "name": "stdout",
     "output_type": "stream",
     "text": [
      "<class 'pandas.core.frame.DataFrame'>\n",
      "RangeIndex: 61900 entries, 0 to 61899\n",
      "Data columns (total 7 columns):\n",
      " #   Column                     Non-Null Count  Dtype         \n",
      "---  ------                     --------------  -----         \n",
      " 0   date                       61900 non-null  datetime64[ns]\n",
      " 1   daily_confirmed_cases      61900 non-null  int64         \n",
      " 2   daily_deaths               61900 non-null  int64         \n",
      " 3   confirmed_cases            61900 non-null  int64         \n",
      " 4   deaths                     61900 non-null  int64         \n",
      " 5   countries_and_territories  61900 non-null  object        \n",
      " 6   geo_id                     61900 non-null  object        \n",
      "dtypes: datetime64[ns](1), int64(4), object(2)\n",
      "memory usage: 3.3+ MB\n"
     ]
    }
   ],
   "source": [
    "# Converter campo date para datetime\n",
    "df_covid_data['date'] = pd.to_datetime(df_covid_data['date'])\n",
    "df_covid_data.info()"
   ]
  },
  {
   "cell_type": "markdown",
   "id": "80d7d817",
   "metadata": {},
   "source": [
    "### EDA"
   ]
  },
  {
   "cell_type": "code",
   "execution_count": 9,
   "id": "2bc682ca",
   "metadata": {},
   "outputs": [
    {
     "data": {
      "text/html": [
       "<div>\n",
       "<style scoped>\n",
       "    .dataframe tbody tr th:only-of-type {\n",
       "        vertical-align: middle;\n",
       "    }\n",
       "\n",
       "    .dataframe tbody tr th {\n",
       "        vertical-align: top;\n",
       "    }\n",
       "\n",
       "    .dataframe thead th {\n",
       "        text-align: right;\n",
       "    }\n",
       "</style>\n",
       "<table border=\"1\" class=\"dataframe\">\n",
       "  <thead>\n",
       "    <tr style=\"text-align: right;\">\n",
       "      <th></th>\n",
       "      <th>daily_confirmed_cases</th>\n",
       "      <th>daily_deaths</th>\n",
       "      <th>confirmed_cases</th>\n",
       "      <th>deaths</th>\n",
       "    </tr>\n",
       "  </thead>\n",
       "  <tbody>\n",
       "    <tr>\n",
       "      <th>count</th>\n",
       "      <td>61900.000000</td>\n",
       "      <td>61900.000000</td>\n",
       "      <td>6.190000e+04</td>\n",
       "      <td>61900.000000</td>\n",
       "    </tr>\n",
       "    <tr>\n",
       "      <th>mean</th>\n",
       "      <td>1155.147237</td>\n",
       "      <td>26.055460</td>\n",
       "      <td>1.005831e+05</td>\n",
       "      <td>3101.676785</td>\n",
       "    </tr>\n",
       "    <tr>\n",
       "      <th>std</th>\n",
       "      <td>6779.224479</td>\n",
       "      <td>131.227055</td>\n",
       "      <td>6.074374e+05</td>\n",
       "      <td>15538.122301</td>\n",
       "    </tr>\n",
       "    <tr>\n",
       "      <th>min</th>\n",
       "      <td>-8261.000000</td>\n",
       "      <td>-1918.000000</td>\n",
       "      <td>0.000000e+00</td>\n",
       "      <td>0.000000</td>\n",
       "    </tr>\n",
       "    <tr>\n",
       "      <th>25%</th>\n",
       "      <td>0.000000</td>\n",
       "      <td>0.000000</td>\n",
       "      <td>1.277500e+02</td>\n",
       "      <td>1.000000</td>\n",
       "    </tr>\n",
       "    <tr>\n",
       "      <th>50%</th>\n",
       "      <td>15.000000</td>\n",
       "      <td>0.000000</td>\n",
       "      <td>2.047000e+03</td>\n",
       "      <td>42.000000</td>\n",
       "    </tr>\n",
       "    <tr>\n",
       "      <th>75%</th>\n",
       "      <td>273.000000</td>\n",
       "      <td>4.000000</td>\n",
       "      <td>2.456775e+04</td>\n",
       "      <td>463.000000</td>\n",
       "    </tr>\n",
       "    <tr>\n",
       "      <th>max</th>\n",
       "      <td>234633.000000</td>\n",
       "      <td>4928.000000</td>\n",
       "      <td>1.625675e+07</td>\n",
       "      <td>299177.000000</td>\n",
       "    </tr>\n",
       "  </tbody>\n",
       "</table>\n",
       "</div>"
      ],
      "text/plain": [
       "       daily_confirmed_cases  daily_deaths  confirmed_cases         deaths\n",
       "count           61900.000000  61900.000000     6.190000e+04   61900.000000\n",
       "mean             1155.147237     26.055460     1.005831e+05    3101.676785\n",
       "std              6779.224479    131.227055     6.074374e+05   15538.122301\n",
       "min             -8261.000000  -1918.000000     0.000000e+00       0.000000\n",
       "25%                 0.000000      0.000000     1.277500e+02       1.000000\n",
       "50%                15.000000      0.000000     2.047000e+03      42.000000\n",
       "75%               273.000000      4.000000     2.456775e+04     463.000000\n",
       "max            234633.000000   4928.000000     1.625675e+07  299177.000000"
      ]
     },
     "execution_count": 9,
     "metadata": {},
     "output_type": "execute_result"
    }
   ],
   "source": [
    "# Analise estatistica geral\n",
    "df_covid_data.describe()"
   ]
  },
  {
   "cell_type": "markdown",
   "id": "55276609",
   "metadata": {},
   "source": [
    "Sera preciso analisar coluna por coluna, mas com essa simpels analise captamos informacoes incomuns, perceba que o registro de mortes diarias e casos confirmados possuem valores negativos, o que nao faz sentido"
   ]
  },
  {
   "cell_type": "code",
   "execution_count": 10,
   "id": "b1c9c827",
   "metadata": {},
   "outputs": [],
   "source": [
    "def fn_show_individual_outlier(p_df_dataframe, p_column):\n",
    "    \"\"\"\n",
    "    Description:\n",
    "        Função que exibe um boxplot e as estatisticas descritivas de uma dada coluna de um dataframe\n",
    "\n",
    "    Keyword arguments:\n",
    "        p_df_dataframe -- O pandas dataframe\n",
    "        p_column -- Coluna do dataframe\n",
    "\n",
    "    Return:\n",
    "        None\n",
    "    \n",
    "    Exception:\n",
    "        None\n",
    "    \"\"\"\n",
    "    ## Dataframe com as estatisticas descritivas\n",
    "    df_summary = pd.DataFrame(p_df_dataframe[p_column].describe())\n",
    "\n",
    "    ## Tamanho Figura\n",
    "    plt.figure(figsize = (4, 6))\n",
    "    \n",
    "    ## Objeto referente ao boxplot\n",
    "    ax = sns.boxplot(data = p_df_dataframe[p_column])\n",
    "    \n",
    "    ## deixando os x_ticks com valor em branco\n",
    "    ax.set(xticklabels = [])\n",
    "    ax.set(ylabel = None)\n",
    "    \n",
    "    ## Titulo do boxplot com o nome da coluna\n",
    "    ax.set(title = 'Parâmetro: ' + p_column)\n",
    "    \n",
    "    ## Tabela que será gerada junto com o gráfico, onde tera as estatisticas\n",
    "    statistics_table = plt.table( cellText = df_summary.values,\n",
    "                                    rowLabels = df_summary.index,\n",
    "                                    colLabels =  ' ',\n",
    "                                    cellLoc = 'left', \n",
    "                                    rowLoc = 'center',            \n",
    "                                    loc ='bottom')\n",
    "    \n",
    "    ## Tamanho da fonte da tabela\n",
    "    statistics_table.set_fontsize(12)\n",
    "    \n",
    "    ## Escala da tabela\n",
    "    statistics_table.scale(1, 2)\n",
    "    \n",
    "    ## Colocar a tabela debaixo do boxplot\n",
    "    plt.subplots_adjust(left = 0.2, bottom = .1)\n",
    "    \n",
    "    ## Exibir figura\n",
    "    plt.show()"
   ]
  },
  {
   "cell_type": "markdown",
   "id": "64f0c93a",
   "metadata": {},
   "source": [
    "#### Column 'daily_confirmed_cases'"
   ]
  },
  {
   "cell_type": "code",
   "execution_count": 11,
   "id": "bc850256",
   "metadata": {},
   "outputs": [
    {
     "data": {
      "text/plain": [
       "count     61900.000000\n",
       "mean       1155.147237\n",
       "std        6779.224479\n",
       "min       -8261.000000\n",
       "25%           0.000000\n",
       "50%          15.000000\n",
       "75%         273.000000\n",
       "max      234633.000000\n",
       "Name: daily_confirmed_cases, dtype: float64"
      ]
     },
     "execution_count": 11,
     "metadata": {},
     "output_type": "execute_result"
    }
   ],
   "source": [
    "# analise estatistica geral\n",
    "df_covid_data['daily_confirmed_cases'].describe()"
   ]
  },
  {
   "cell_type": "code",
   "execution_count": 12,
   "id": "e0874f0b",
   "metadata": {},
   "outputs": [
    {
     "data": {
      "text/plain": [
       "18"
      ]
     },
     "execution_count": 12,
     "metadata": {},
     "output_type": "execute_result"
    }
   ],
   "source": [
    "# Quantidade de casos confirmados abaixo de ZERO\n",
    "df_covid_data[df_covid_data['daily_confirmed_cases'] < 0].count()[0]"
   ]
  },
  {
   "cell_type": "code",
   "execution_count": 13,
   "id": "655d9548",
   "metadata": {},
   "outputs": [
    {
     "data": {
      "text/html": [
       "<div>\n",
       "<style scoped>\n",
       "    .dataframe tbody tr th:only-of-type {\n",
       "        vertical-align: middle;\n",
       "    }\n",
       "\n",
       "    .dataframe tbody tr th {\n",
       "        vertical-align: top;\n",
       "    }\n",
       "\n",
       "    .dataframe thead th {\n",
       "        text-align: right;\n",
       "    }\n",
       "</style>\n",
       "<table border=\"1\" class=\"dataframe\">\n",
       "  <thead>\n",
       "    <tr style=\"text-align: right;\">\n",
       "      <th></th>\n",
       "      <th>date</th>\n",
       "      <th>daily_confirmed_cases</th>\n",
       "      <th>daily_deaths</th>\n",
       "      <th>confirmed_cases</th>\n",
       "      <th>deaths</th>\n",
       "      <th>countries_and_territories</th>\n",
       "      <th>geo_id</th>\n",
       "    </tr>\n",
       "  </thead>\n",
       "  <tbody>\n",
       "    <tr>\n",
       "      <th>3544</th>\n",
       "      <td>2020-05-20</td>\n",
       "      <td>-209</td>\n",
       "      <td>0</td>\n",
       "      <td>130</td>\n",
       "      <td>2</td>\n",
       "      <td>Benin</td>\n",
       "      <td>BJ</td>\n",
       "    </tr>\n",
       "    <tr>\n",
       "      <th>6290</th>\n",
       "      <td>2020-06-20</td>\n",
       "      <td>-148</td>\n",
       "      <td>47</td>\n",
       "      <td>238011</td>\n",
       "      <td>34561</td>\n",
       "      <td>Italy</td>\n",
       "      <td>IT</td>\n",
       "    </tr>\n",
       "    <tr>\n",
       "      <th>8695</th>\n",
       "      <td>2020-04-19</td>\n",
       "      <td>-713</td>\n",
       "      <td>410</td>\n",
       "      <td>193252</td>\n",
       "      <td>20453</td>\n",
       "      <td>Spain</td>\n",
       "      <td>ES</td>\n",
       "    </tr>\n",
       "    <tr>\n",
       "      <th>8730</th>\n",
       "      <td>2020-05-25</td>\n",
       "      <td>-372</td>\n",
       "      <td>-1918</td>\n",
       "      <td>235400</td>\n",
       "      <td>26834</td>\n",
       "      <td>Spain</td>\n",
       "      <td>ES</td>\n",
       "    </tr>\n",
       "    <tr>\n",
       "      <th>11667</th>\n",
       "      <td>2020-06-03</td>\n",
       "      <td>-766</td>\n",
       "      <td>107</td>\n",
       "      <td>151325</td>\n",
       "      <td>28940</td>\n",
       "      <td>France</td>\n",
       "      <td>FR</td>\n",
       "    </tr>\n",
       "    <tr>\n",
       "      <th>13605</th>\n",
       "      <td>2020-09-11</td>\n",
       "      <td>-6</td>\n",
       "      <td>0</td>\n",
       "      <td>379</td>\n",
       "      <td>32</td>\n",
       "      <td>Jersey</td>\n",
       "      <td>JE</td>\n",
       "    </tr>\n",
       "    <tr>\n",
       "      <th>13911</th>\n",
       "      <td>2020-07-22</td>\n",
       "      <td>-110</td>\n",
       "      <td>0</td>\n",
       "      <td>1113</td>\n",
       "      <td>11</td>\n",
       "      <td>Jordan</td>\n",
       "      <td>JO</td>\n",
       "    </tr>\n",
       "    <tr>\n",
       "      <th>18706</th>\n",
       "      <td>2020-05-21</td>\n",
       "      <td>-115</td>\n",
       "      <td>0</td>\n",
       "      <td>145</td>\n",
       "      <td>0</td>\n",
       "      <td>Uganda</td>\n",
       "      <td>UG</td>\n",
       "    </tr>\n",
       "    <tr>\n",
       "      <th>18718</th>\n",
       "      <td>2020-06-02</td>\n",
       "      <td>-1</td>\n",
       "      <td>0</td>\n",
       "      <td>457</td>\n",
       "      <td>0</td>\n",
       "      <td>Uganda</td>\n",
       "      <td>UG</td>\n",
       "    </tr>\n",
       "    <tr>\n",
       "      <th>24195</th>\n",
       "      <td>2020-05-07</td>\n",
       "      <td>-2461</td>\n",
       "      <td>49</td>\n",
       "      <td>29420</td>\n",
       "      <td>1618</td>\n",
       "      <td>Ecuador</td>\n",
       "      <td>EC</td>\n",
       "    </tr>\n",
       "    <tr>\n",
       "      <th>24197</th>\n",
       "      <td>2020-05-09</td>\n",
       "      <td>-1480</td>\n",
       "      <td>50</td>\n",
       "      <td>28818</td>\n",
       "      <td>1704</td>\n",
       "      <td>Ecuador</td>\n",
       "      <td>EC</td>\n",
       "    </tr>\n",
       "    <tr>\n",
       "      <th>24199</th>\n",
       "      <td>2020-05-12</td>\n",
       "      <td>-50</td>\n",
       "      <td>18</td>\n",
       "      <td>29509</td>\n",
       "      <td>2145</td>\n",
       "      <td>Ecuador</td>\n",
       "      <td>EC</td>\n",
       "    </tr>\n",
       "    <tr>\n",
       "      <th>24297</th>\n",
       "      <td>2020-09-07</td>\n",
       "      <td>-8261</td>\n",
       "      <td>3800</td>\n",
       "      <td>109784</td>\n",
       "      <td>10524</td>\n",
       "      <td>Ecuador</td>\n",
       "      <td>EC</td>\n",
       "    </tr>\n",
       "    <tr>\n",
       "      <th>37791</th>\n",
       "      <td>2020-05-03</td>\n",
       "      <td>-161</td>\n",
       "      <td>16</td>\n",
       "      <td>25190</td>\n",
       "      <td>1023</td>\n",
       "      <td>Portugal</td>\n",
       "      <td>PT</td>\n",
       "    </tr>\n",
       "    <tr>\n",
       "      <th>41583</th>\n",
       "      <td>2020-04-29</td>\n",
       "      <td>-105</td>\n",
       "      <td>3</td>\n",
       "      <td>1344</td>\n",
       "      <td>44</td>\n",
       "      <td>Lithuania</td>\n",
       "      <td>LT</td>\n",
       "    </tr>\n",
       "    <tr>\n",
       "      <th>45303</th>\n",
       "      <td>2020-08-28</td>\n",
       "      <td>-1385</td>\n",
       "      <td>0</td>\n",
       "      <td>6543</td>\n",
       "      <td>124</td>\n",
       "      <td>Luxembourg</td>\n",
       "      <td>LU</td>\n",
       "    </tr>\n",
       "    <tr>\n",
       "      <th>46926</th>\n",
       "      <td>2020-05-11</td>\n",
       "      <td>-9</td>\n",
       "      <td>0</td>\n",
       "      <td>628</td>\n",
       "      <td>41</td>\n",
       "      <td>San_Marino</td>\n",
       "      <td>SM</td>\n",
       "    </tr>\n",
       "    <tr>\n",
       "      <th>61897</th>\n",
       "      <td>2020-03-10</td>\n",
       "      <td>-9</td>\n",
       "      <td>1</td>\n",
       "      <td>696</td>\n",
       "      <td>7</td>\n",
       "      <td>Cases_on_an_international_conveyance_Japan</td>\n",
       "      <td>JPG11668</td>\n",
       "    </tr>\n",
       "  </tbody>\n",
       "</table>\n",
       "</div>"
      ],
      "text/plain": [
       "            date  daily_confirmed_cases  daily_deaths  confirmed_cases  \\\n",
       "3544  2020-05-20                   -209             0              130   \n",
       "6290  2020-06-20                   -148            47           238011   \n",
       "8695  2020-04-19                   -713           410           193252   \n",
       "8730  2020-05-25                   -372         -1918           235400   \n",
       "11667 2020-06-03                   -766           107           151325   \n",
       "13605 2020-09-11                     -6             0              379   \n",
       "13911 2020-07-22                   -110             0             1113   \n",
       "18706 2020-05-21                   -115             0              145   \n",
       "18718 2020-06-02                     -1             0              457   \n",
       "24195 2020-05-07                  -2461            49            29420   \n",
       "24197 2020-05-09                  -1480            50            28818   \n",
       "24199 2020-05-12                    -50            18            29509   \n",
       "24297 2020-09-07                  -8261          3800           109784   \n",
       "37791 2020-05-03                   -161            16            25190   \n",
       "41583 2020-04-29                   -105             3             1344   \n",
       "45303 2020-08-28                  -1385             0             6543   \n",
       "46926 2020-05-11                     -9             0              628   \n",
       "61897 2020-03-10                     -9             1              696   \n",
       "\n",
       "       deaths                   countries_and_territories    geo_id  \n",
       "3544        2                                       Benin        BJ  \n",
       "6290    34561                                       Italy        IT  \n",
       "8695    20453                                       Spain        ES  \n",
       "8730    26834                                       Spain        ES  \n",
       "11667   28940                                      France        FR  \n",
       "13605      32                                      Jersey        JE  \n",
       "13911      11                                      Jordan        JO  \n",
       "18706       0                                      Uganda        UG  \n",
       "18718       0                                      Uganda        UG  \n",
       "24195    1618                                     Ecuador        EC  \n",
       "24197    1704                                     Ecuador        EC  \n",
       "24199    2145                                     Ecuador        EC  \n",
       "24297   10524                                     Ecuador        EC  \n",
       "37791    1023                                    Portugal        PT  \n",
       "41583      44                                   Lithuania        LT  \n",
       "45303     124                                  Luxembourg        LU  \n",
       "46926      41                                  San_Marino        SM  \n",
       "61897       7  Cases_on_an_international_conveyance_Japan  JPG11668  "
      ]
     },
     "execution_count": 13,
     "metadata": {},
     "output_type": "execute_result"
    }
   ],
   "source": [
    "# Analisando dados\n",
    "df_covid_data[df_covid_data['daily_confirmed_cases'] < 0]"
   ]
  },
  {
   "cell_type": "markdown",
   "id": "4eed14f7",
   "metadata": {},
   "source": [
    "Nao faz sentido ter casos confirmados negativos, indicando que esses dados podem ser erros de digitacao, ou alguma inconsistencia foi realizada na extracao dessas informacoes. Esses dados sera excluidos do dataframe"
   ]
  },
  {
   "cell_type": "code",
   "execution_count": 14,
   "id": "904762ce",
   "metadata": {},
   "outputs": [],
   "source": [
    "# Excluinbdo os dados\n",
    "index_num = df_covid_data[df_covid_data['daily_confirmed_cases'] < 0].index\n",
    "df_covid_data.drop(index_num, inplace = True)"
   ]
  },
  {
   "cell_type": "code",
   "execution_count": 15,
   "id": "5ceaacf2",
   "metadata": {},
   "outputs": [
    {
     "data": {
      "text/plain": [
       "count     61882.000000\n",
       "mean       1155.747633\n",
       "std        6780.041617\n",
       "min           0.000000\n",
       "25%           0.000000\n",
       "50%          15.000000\n",
       "75%         274.000000\n",
       "max      234633.000000\n",
       "Name: daily_confirmed_cases, dtype: float64"
      ]
     },
     "execution_count": 15,
     "metadata": {},
     "output_type": "execute_result"
    }
   ],
   "source": [
    "# analise estatistica geral\n",
    "df_covid_data['daily_confirmed_cases'].describe()"
   ]
  },
  {
   "cell_type": "code",
   "execution_count": 16,
   "id": "616f2809",
   "metadata": {},
   "outputs": [
    {
     "data": {
      "image/png": "[encoded data removed]",
      "text/plain": [
       "<Figure size 288x432 with 1 Axes>"
      ]
     },
     "metadata": {
      "needs_background": "light"
     },
     "output_type": "display_data"
    }
   ],
   "source": [
    "# Verificando outliers\n",
    "fn_show_individual_outlier(df_covid_data, 'daily_confirmed_cases')"
   ]
  },
  {
   "cell_type": "markdown",
   "id": "34b54daa",
   "metadata": {},
   "source": [
    "A uma quantidade absurda de outliers, contudo tais dados fazem sentido pois o numero de casos confirmados aumentou com o passar do tempo, ainda mais considerando que se trata de uma pandemia."
   ]
  },
  {
   "cell_type": "markdown",
   "id": "cc6d733e",
   "metadata": {},
   "source": [
    "#### Colums 'daily_deaths'"
   ]
  },
  {
   "cell_type": "code",
   "execution_count": 17,
   "id": "67939e9e",
   "metadata": {},
   "outputs": [
    {
     "data": {
      "text/plain": [
       "count    61882.000000\n",
       "mean        26.021299\n",
       "std        130.121867\n",
       "min       -443.000000\n",
       "25%          0.000000\n",
       "50%          0.000000\n",
       "75%          4.000000\n",
       "max       4928.000000\n",
       "Name: daily_deaths, dtype: float64"
      ]
     },
     "execution_count": 17,
     "metadata": {},
     "output_type": "execute_result"
    }
   ],
   "source": [
    "# analise estatistica geral\n",
    "df_covid_data['daily_deaths'].describe()"
   ]
  },
  {
   "cell_type": "code",
   "execution_count": 18,
   "id": "7c3a79b8",
   "metadata": {},
   "outputs": [
    {
     "data": {
      "text/plain": [
       "7"
      ]
     },
     "execution_count": 18,
     "metadata": {},
     "output_type": "execute_result"
    }
   ],
   "source": [
    "# Quantidade de casos confirmados abaixo de ZERO\n",
    "df_covid_data[df_covid_data['daily_deaths'] < 0].count()[0]"
   ]
  },
  {
   "cell_type": "code",
   "execution_count": 19,
   "id": "3b11afe0",
   "metadata": {},
   "outputs": [
    {
     "data": {
      "text/html": [
       "<div>\n",
       "<style scoped>\n",
       "    .dataframe tbody tr th:only-of-type {\n",
       "        vertical-align: middle;\n",
       "    }\n",
       "\n",
       "    .dataframe tbody tr th {\n",
       "        vertical-align: top;\n",
       "    }\n",
       "\n",
       "    .dataframe thead th {\n",
       "        text-align: right;\n",
       "    }\n",
       "</style>\n",
       "<table border=\"1\" class=\"dataframe\">\n",
       "  <thead>\n",
       "    <tr style=\"text-align: right;\">\n",
       "      <th></th>\n",
       "      <th>date</th>\n",
       "      <th>daily_confirmed_cases</th>\n",
       "      <th>daily_deaths</th>\n",
       "      <th>confirmed_cases</th>\n",
       "      <th>deaths</th>\n",
       "      <th>countries_and_territories</th>\n",
       "      <th>geo_id</th>\n",
       "    </tr>\n",
       "  </thead>\n",
       "  <tbody>\n",
       "    <tr>\n",
       "      <th>6295</th>\n",
       "      <td>2020-06-25</td>\n",
       "      <td>577</td>\n",
       "      <td>-31</td>\n",
       "      <td>239410</td>\n",
       "      <td>34644</td>\n",
       "      <td>Italy</td>\n",
       "      <td>IT</td>\n",
       "    </tr>\n",
       "    <tr>\n",
       "      <th>8737</th>\n",
       "      <td>2020-08-12</td>\n",
       "      <td>3172</td>\n",
       "      <td>-2</td>\n",
       "      <td>329784</td>\n",
       "      <td>28579</td>\n",
       "      <td>Spain</td>\n",
       "      <td>ES</td>\n",
       "    </tr>\n",
       "    <tr>\n",
       "      <th>14004</th>\n",
       "      <td>2020-08-06</td>\n",
       "      <td>218</td>\n",
       "      <td>-12</td>\n",
       "      <td>9492</td>\n",
       "      <td>284</td>\n",
       "      <td>Kosovo</td>\n",
       "      <td>XK</td>\n",
       "    </tr>\n",
       "    <tr>\n",
       "      <th>23470</th>\n",
       "      <td>2020-07-05</td>\n",
       "      <td>121</td>\n",
       "      <td>-1</td>\n",
       "      <td>12440</td>\n",
       "      <td>351</td>\n",
       "      <td>Czechia</td>\n",
       "      <td>CZ</td>\n",
       "    </tr>\n",
       "    <tr>\n",
       "      <th>23471</th>\n",
       "      <td>2020-07-06</td>\n",
       "      <td>75</td>\n",
       "      <td>-3</td>\n",
       "      <td>12515</td>\n",
       "      <td>348</td>\n",
       "      <td>Czechia</td>\n",
       "      <td>CZ</td>\n",
       "    </tr>\n",
       "    <tr>\n",
       "      <th>27114</th>\n",
       "      <td>2020-10-03</td>\n",
       "      <td>466</td>\n",
       "      <td>-5</td>\n",
       "      <td>37063</td>\n",
       "      <td>1801</td>\n",
       "      <td>Ireland</td>\n",
       "      <td>IE</td>\n",
       "    </tr>\n",
       "    <tr>\n",
       "      <th>44870</th>\n",
       "      <td>2020-08-24</td>\n",
       "      <td>237</td>\n",
       "      <td>-443</td>\n",
       "      <td>43126</td>\n",
       "      <td>1057</td>\n",
       "      <td>Kyrgyzstan</td>\n",
       "      <td>KG</td>\n",
       "    </tr>\n",
       "  </tbody>\n",
       "</table>\n",
       "</div>"
      ],
      "text/plain": [
       "            date  daily_confirmed_cases  daily_deaths  confirmed_cases  \\\n",
       "6295  2020-06-25                    577           -31           239410   \n",
       "8737  2020-08-12                   3172            -2           329784   \n",
       "14004 2020-08-06                    218           -12             9492   \n",
       "23470 2020-07-05                    121            -1            12440   \n",
       "23471 2020-07-06                     75            -3            12515   \n",
       "27114 2020-10-03                    466            -5            37063   \n",
       "44870 2020-08-24                    237          -443            43126   \n",
       "\n",
       "       deaths countries_and_territories geo_id  \n",
       "6295    34644                     Italy     IT  \n",
       "8737    28579                     Spain     ES  \n",
       "14004     284                    Kosovo     XK  \n",
       "23470     351                   Czechia     CZ  \n",
       "23471     348                   Czechia     CZ  \n",
       "27114    1801                   Ireland     IE  \n",
       "44870    1057                Kyrgyzstan     KG  "
      ]
     },
     "execution_count": 19,
     "metadata": {},
     "output_type": "execute_result"
    }
   ],
   "source": [
    "# Analisando dados\n",
    "df_covid_data[df_covid_data['daily_deaths'] < 0]"
   ]
  },
  {
   "cell_type": "markdown",
   "id": "233edae0",
   "metadata": {},
   "source": [
    "Nao faz sentido haver mortes diarias negativas, a menos que indicasse erro em algum dia anterior e de alguma forma fosse feita uma subtracao dos dados gerais. O que tambem nao e adequado de se fazer.\n",
    "Pra todos os efeitos esses valores negativos serao excluidos"
   ]
  },
  {
   "cell_type": "code",
   "execution_count": 20,
   "id": "873d5289",
   "metadata": {},
   "outputs": [],
   "source": [
    "# Excluinbdo os dados\n",
    "index_num = df_covid_data[df_covid_data['daily_deaths'] < 0].index\n",
    "df_covid_data.drop(index_num, inplace = True)"
   ]
  },
  {
   "cell_type": "code",
   "execution_count": 21,
   "id": "d219d08e",
   "metadata": {},
   "outputs": [
    {
     "data": {
      "text/plain": [
       "count    61875.000000\n",
       "mean        26.032275\n",
       "std        130.115067\n",
       "min          0.000000\n",
       "25%          0.000000\n",
       "50%          0.000000\n",
       "75%          4.000000\n",
       "max       4928.000000\n",
       "Name: daily_deaths, dtype: float64"
      ]
     },
     "execution_count": 21,
     "metadata": {},
     "output_type": "execute_result"
    }
   ],
   "source": [
    "# analise estatistica geral\n",
    "df_covid_data['daily_deaths'].describe()"
   ]
  },
  {
   "cell_type": "code",
   "execution_count": 22,
   "id": "225e29bb",
   "metadata": {},
   "outputs": [
    {
     "data": {
      "image/png": "[encoded data removed]",
      "text/plain": [
       "<Figure size 288x432 with 1 Axes>"
      ]
     },
     "metadata": {
      "needs_background": "light"
     },
     "output_type": "display_data"
    }
   ],
   "source": [
    "# Verificando outliers\n",
    "fn_show_individual_outlier(df_covid_data, 'daily_deaths')"
   ]
  },
  {
   "cell_type": "markdown",
   "id": "72330018",
   "metadata": {},
   "source": [
    "A taxa de mortes possui diversos outliers, oq ue tambem faz sentido dado que as mortes aumentaram significativamente a partir do primeiro trimestre de 2020"
   ]
  },
  {
   "cell_type": "markdown",
   "id": "de640dd1",
   "metadata": {},
   "source": [
    "#### Column 'confirmed_cases' and 'deaths'"
   ]
  },
  {
   "cell_type": "code",
   "execution_count": 23,
   "id": "3fd56e8a",
   "metadata": {},
   "outputs": [
    {
     "data": {
      "text/plain": [
       "count    6.187500e+04\n",
       "mean     1.005957e+05\n",
       "std      6.075566e+05\n",
       "min      0.000000e+00\n",
       "25%      1.270000e+02\n",
       "50%      2.046000e+03\n",
       "75%      2.451900e+04\n",
       "max      1.625675e+07\n",
       "Name: confirmed_cases, dtype: float64"
      ]
     },
     "execution_count": 23,
     "metadata": {},
     "output_type": "execute_result"
    }
   ],
   "source": [
    "# analise estatistica geral\n",
    "df_covid_data['confirmed_cases'].describe()"
   ]
  },
  {
   "cell_type": "code",
   "execution_count": 24,
   "id": "7483ffaa",
   "metadata": {},
   "outputs": [
    {
     "data": {
      "text/plain": [
       "count     61875.000000\n",
       "mean       3099.776420\n",
       "std       15539.002013\n",
       "min           0.000000\n",
       "25%           1.000000\n",
       "50%          42.000000\n",
       "75%         462.000000\n",
       "max      299177.000000\n",
       "Name: deaths, dtype: float64"
      ]
     },
     "execution_count": 24,
     "metadata": {},
     "output_type": "execute_result"
    }
   ],
   "source": [
    "# analise estatistica geral\n",
    "df_covid_data['deaths'].describe()"
   ]
  },
  {
   "cell_type": "code",
   "execution_count": 25,
   "id": "efa5da40",
   "metadata": {},
   "outputs": [
    {
     "data": {
      "image/png": "[encoded data removed]",
      "text/plain": [
       "<Figure size 288x432 with 1 Axes>"
      ]
     },
     "metadata": {
      "needs_background": "light"
     },
     "output_type": "display_data"
    }
   ],
   "source": [
    "# Verificando outliers\n",
    "fn_show_individual_outlier(df_covid_data, 'confirmed_cases')"
   ]
  },
  {
   "cell_type": "code",
   "execution_count": 26,
   "id": "bbd40a0e",
   "metadata": {},
   "outputs": [
    {
     "data": {
      "image/png": "[encoded data removed]",
      "text/plain": [
       "<Figure size 288x432 with 1 Axes>"
      ]
     },
     "metadata": {
      "needs_background": "light"
     },
     "output_type": "display_data"
    }
   ],
   "source": [
    "# Verificando outliers\n",
    "fn_show_individual_outlier(df_covid_data, 'deaths')"
   ]
  },
  {
   "cell_type": "markdown",
   "id": "0793b836",
   "metadata": {},
   "source": [
    "Os outliers podem ser explicado pelo fato que os casos confirmados e mortes aumentaram com o passar do tempo, inclusive a uma taxa muito elevada"
   ]
  },
  {
   "cell_type": "markdown",
   "id": "722180b5",
   "metadata": {},
   "source": [
    "#### Column 'date'"
   ]
  },
  {
   "cell_type": "code",
   "execution_count": 27,
   "id": "387bfa77",
   "metadata": {},
   "outputs": [
    {
     "data": {
      "text/plain": [
       "Timestamp('2019-12-31 00:00:00')"
      ]
     },
     "execution_count": 27,
     "metadata": {},
     "output_type": "execute_result"
    }
   ],
   "source": [
    "# Menor data\n",
    "df_covid_data['date'].min()"
   ]
  },
  {
   "cell_type": "code",
   "execution_count": 28,
   "id": "83fdff56",
   "metadata": {},
   "outputs": [
    {
     "data": {
      "text/plain": [
       "Timestamp('2020-12-14 00:00:00')"
      ]
     },
     "execution_count": 28,
     "metadata": {},
     "output_type": "execute_result"
    }
   ],
   "source": [
    "# Maior Data\n",
    "df_covid_data['date'].max()"
   ]
  },
  {
   "cell_type": "markdown",
   "id": "c8d6f808",
   "metadata": {},
   "source": [
    "O periodo analisado esta contido entre as datas 31/12/2019 e 14/12/2020"
   ]
  },
  {
   "cell_type": "code",
   "execution_count": 29,
   "id": "8ab2f170",
   "metadata": {},
   "outputs": [
    {
     "data": {
      "image/png": "[encoded data removed]",
      "text/plain": [
       "<Figure size 576x576 with 1 Axes>"
      ]
     },
     "metadata": {
      "needs_background": "light"
     },
     "output_type": "display_data"
    }
   ],
   "source": [
    "# Relacao de mortes por periodo\n",
    "\n",
    "# Tamanho da figura\n",
    "plt.figure(figsize = (8, 8))\n",
    "\n",
    "sns.lineplot(x = 'date', \n",
    "             y = 'deaths', \n",
    "             color = 'red',\n",
    "             data = df_covid_data)\n",
    "\n",
    "# Texto eixo X\n",
    "plt.xlabel('Periodo',\n",
    "           fontsize = 14)\n",
    "\n",
    "# Titulo\n",
    "plt.title('Relacao de mortes por periodo', \n",
    "          fontsize = 18)\n",
    "\n",
    "# Exibir\n",
    "plt.show()"
   ]
  },
  {
   "cell_type": "code",
   "execution_count": 30,
   "id": "747fc527",
   "metadata": {},
   "outputs": [
    {
     "data": {
      "image/png": "[encoded data removed]",
      "text/plain": [
       "<Figure size 576x576 with 1 Axes>"
      ]
     },
     "metadata": {
      "needs_background": "light"
     },
     "output_type": "display_data"
    }
   ],
   "source": [
    "# Relacao de Casos Confirmados por periodo\n",
    "\n",
    "# Tamanho da figura\n",
    "plt.figure(figsize = (8, 8))\n",
    "\n",
    "sns.lineplot(x = 'date', \n",
    "             y = 'daily_confirmed_cases', \n",
    "             data = df_covid_data)\n",
    "\n",
    "# Texto eixo X\n",
    "plt.xlabel('Periodo',\n",
    "           fontsize = 14)\n",
    "\n",
    "# Titulo\n",
    "plt.title('Relacao de Casos Confirmados por periodo', \n",
    "          fontsize = 18)\n",
    "\n",
    "# Exibir\n",
    "plt.show()"
   ]
  },
  {
   "cell_type": "code",
   "execution_count": 31,
   "id": "b94c8e75",
   "metadata": {},
   "outputs": [
    {
     "data": {
      "image/png": "[encoded data removed]",
      "text/plain": [
       "<Figure size 576x576 with 1 Axes>"
      ]
     },
     "metadata": {
      "needs_background": "light"
     },
     "output_type": "display_data"
    }
   ],
   "source": [
    "# Relacao de Casos Confirmados por periodo\n",
    "\n",
    "# Tamanho da figura\n",
    "plt.figure(figsize = (8, 8))\n",
    "\n",
    "sns.lineplot(x = 'date', \n",
    "             y = 'daily_deaths', \n",
    "             color = 'green',\n",
    "             data = df_covid_data)\n",
    "\n",
    "# Texto eixo X\n",
    "plt.xlabel('Periodo',\n",
    "           fontsize = 14)\n",
    "\n",
    "# Titulo\n",
    "plt.title('Relacao de mortes diarias por periodo', \n",
    "          fontsize = 18)\n",
    "\n",
    "# Exibir\n",
    "plt.show()"
   ]
  },
  {
   "cell_type": "markdown",
   "id": "47066034",
   "metadata": {},
   "source": [
    "A partir de uma analise inicial dos graficos apresentados, precebe-se que a uma relacao entre mortes diarias e casos confirmados, dado que com o passar do tempo ambas tiveram um acrescimo significativo"
   ]
  },
  {
   "cell_type": "markdown",
   "id": "ae8214d2",
   "metadata": {},
   "source": [
    "#### Column 'countries_and_territories'"
   ]
  },
  {
   "cell_type": "code",
   "execution_count": 32,
   "id": "d3826da0",
   "metadata": {},
   "outputs": [
    {
     "data": {
      "text/plain": [
       "Russia                               350\n",
       "Japan                                350\n",
       "Austria                              350\n",
       "Iran                                 350\n",
       "Belgium                              350\n",
       "                                    ... \n",
       "BonAire, Saint Eustatius and Saba      1\n",
       "UkrainE                                1\n",
       "TunisiA                                1\n",
       "BraZil                                 1\n",
       "CostA_Rica                             1\n",
       "Name: countries_and_territories, Length: 236, dtype: int64"
      ]
     },
     "execution_count": 32,
     "metadata": {},
     "output_type": "execute_result"
    }
   ],
   "source": [
    "# Quantidade de registros por territorio\n",
    "df_covid_data['countries_and_territories'].value_counts()"
   ]
  },
  {
   "cell_type": "markdown",
   "id": "57a9d22f",
   "metadata": {},
   "source": [
    "Nessa rapida analise podemos perceber que ha paises com o nome diferenciado por caracteres distintos, seja letras maiusculas ou minusculas misturadas, dando a entender haver mais paises do que os existentes.\n",
    "\n",
    "Aplicaremos um tratamento simples a esses campos textuais, colocando tudo em maiusculo"
   ]
  },
  {
   "cell_type": "code",
   "execution_count": 37,
   "id": "7fcc678c",
   "metadata": {},
   "outputs": [],
   "source": [
    "df_covid_data['countries_and_territories'] = df_covid_data['countries_and_territories'].str.upper()\n",
    "\n",
    "df_covid_data['geo_id'] = df_covid_data['geo_id'].str.upper()"
   ]
  },
  {
   "cell_type": "code",
   "execution_count": 38,
   "id": "54afe2d0",
   "metadata": {},
   "outputs": [
    {
     "data": {
      "text/html": [
       "<div>\n",
       "<style scoped>\n",
       "    .dataframe tbody tr th:only-of-type {\n",
       "        vertical-align: middle;\n",
       "    }\n",
       "\n",
       "    .dataframe tbody tr th {\n",
       "        vertical-align: top;\n",
       "    }\n",
       "\n",
       "    .dataframe thead th {\n",
       "        text-align: right;\n",
       "    }\n",
       "</style>\n",
       "<table border=\"1\" class=\"dataframe\">\n",
       "  <thead>\n",
       "    <tr style=\"text-align: right;\">\n",
       "      <th></th>\n",
       "      <th>date</th>\n",
       "      <th>daily_confirmed_cases</th>\n",
       "      <th>daily_deaths</th>\n",
       "      <th>confirmed_cases</th>\n",
       "      <th>deaths</th>\n",
       "      <th>countries_and_territories</th>\n",
       "      <th>geo_id</th>\n",
       "    </tr>\n",
       "  </thead>\n",
       "  <tbody>\n",
       "    <tr>\n",
       "      <th>0</th>\n",
       "      <td>2020-03-20</td>\n",
       "      <td>1</td>\n",
       "      <td>0</td>\n",
       "      <td>1</td>\n",
       "      <td>0</td>\n",
       "      <td>CHAD</td>\n",
       "      <td>TD</td>\n",
       "    </tr>\n",
       "    <tr>\n",
       "      <th>1</th>\n",
       "      <td>2020-03-21</td>\n",
       "      <td>0</td>\n",
       "      <td>0</td>\n",
       "      <td>1</td>\n",
       "      <td>0</td>\n",
       "      <td>CHAD</td>\n",
       "      <td>TD</td>\n",
       "    </tr>\n",
       "    <tr>\n",
       "      <th>2</th>\n",
       "      <td>2020-03-22</td>\n",
       "      <td>1</td>\n",
       "      <td>0</td>\n",
       "      <td>2</td>\n",
       "      <td>0</td>\n",
       "      <td>CHAD</td>\n",
       "      <td>TD</td>\n",
       "    </tr>\n",
       "    <tr>\n",
       "      <th>3</th>\n",
       "      <td>2020-03-23</td>\n",
       "      <td>0</td>\n",
       "      <td>0</td>\n",
       "      <td>2</td>\n",
       "      <td>0</td>\n",
       "      <td>CHAD</td>\n",
       "      <td>TD</td>\n",
       "    </tr>\n",
       "    <tr>\n",
       "      <th>4</th>\n",
       "      <td>2020-03-24</td>\n",
       "      <td>0</td>\n",
       "      <td>0</td>\n",
       "      <td>2</td>\n",
       "      <td>0</td>\n",
       "      <td>CHAD</td>\n",
       "      <td>TD</td>\n",
       "    </tr>\n",
       "    <tr>\n",
       "      <th>...</th>\n",
       "      <td>...</td>\n",
       "      <td>...</td>\n",
       "      <td>...</td>\n",
       "      <td>...</td>\n",
       "      <td>...</td>\n",
       "      <td>...</td>\n",
       "      <td>...</td>\n",
       "    </tr>\n",
       "    <tr>\n",
       "      <th>61894</th>\n",
       "      <td>2020-03-02</td>\n",
       "      <td>0</td>\n",
       "      <td>0</td>\n",
       "      <td>705</td>\n",
       "      <td>6</td>\n",
       "      <td>CASES_ON_AN_INTERNATIONAL_CONVEYANCE_JAPAN</td>\n",
       "      <td>JPG11668</td>\n",
       "    </tr>\n",
       "    <tr>\n",
       "      <th>61895</th>\n",
       "      <td>2020-02-24</td>\n",
       "      <td>57</td>\n",
       "      <td>1</td>\n",
       "      <td>691</td>\n",
       "      <td>3</td>\n",
       "      <td>CASES_ON_AN_INTERNATIONAL_CONVEYANCE_JAPAN</td>\n",
       "      <td>JPG11668</td>\n",
       "    </tr>\n",
       "    <tr>\n",
       "      <th>61896</th>\n",
       "      <td>2020-02-26</td>\n",
       "      <td>0</td>\n",
       "      <td>1</td>\n",
       "      <td>691</td>\n",
       "      <td>4</td>\n",
       "      <td>CASES_ON_AN_INTERNATIONAL_CONVEYANCE_JAPAN</td>\n",
       "      <td>JPG11668</td>\n",
       "    </tr>\n",
       "    <tr>\n",
       "      <th>61898</th>\n",
       "      <td>2020-02-20</td>\n",
       "      <td>79</td>\n",
       "      <td>2</td>\n",
       "      <td>621</td>\n",
       "      <td>2</td>\n",
       "      <td>CASES_ON_AN_INTERNATIONAL_CONVEYANCE_JAPAN</td>\n",
       "      <td>JPG11668</td>\n",
       "    </tr>\n",
       "    <tr>\n",
       "      <th>61899</th>\n",
       "      <td>2020-02-29</td>\n",
       "      <td>0</td>\n",
       "      <td>2</td>\n",
       "      <td>705</td>\n",
       "      <td>6</td>\n",
       "      <td>CASES_ON_AN_INTERNATIONAL_CONVEYANCE_JAPAN</td>\n",
       "      <td>JPG11668</td>\n",
       "    </tr>\n",
       "  </tbody>\n",
       "</table>\n",
       "<p>61875 rows × 7 columns</p>\n",
       "</div>"
      ],
      "text/plain": [
       "            date  daily_confirmed_cases  daily_deaths  confirmed_cases  \\\n",
       "0     2020-03-20                      1             0                1   \n",
       "1     2020-03-21                      0             0                1   \n",
       "2     2020-03-22                      1             0                2   \n",
       "3     2020-03-23                      0             0                2   \n",
       "4     2020-03-24                      0             0                2   \n",
       "...          ...                    ...           ...              ...   \n",
       "61894 2020-03-02                      0             0              705   \n",
       "61895 2020-02-24                     57             1              691   \n",
       "61896 2020-02-26                      0             1              691   \n",
       "61898 2020-02-20                     79             2              621   \n",
       "61899 2020-02-29                      0             2              705   \n",
       "\n",
       "       deaths                   countries_and_territories    geo_id  \n",
       "0           0                                        CHAD        TD  \n",
       "1           0                                        CHAD        TD  \n",
       "2           0                                        CHAD        TD  \n",
       "3           0                                        CHAD        TD  \n",
       "4           0                                        CHAD        TD  \n",
       "...       ...                                         ...       ...  \n",
       "61894       6  CASES_ON_AN_INTERNATIONAL_CONVEYANCE_JAPAN  JPG11668  \n",
       "61895       3  CASES_ON_AN_INTERNATIONAL_CONVEYANCE_JAPAN  JPG11668  \n",
       "61896       4  CASES_ON_AN_INTERNATIONAL_CONVEYANCE_JAPAN  JPG11668  \n",
       "61898       2  CASES_ON_AN_INTERNATIONAL_CONVEYANCE_JAPAN  JPG11668  \n",
       "61899       6  CASES_ON_AN_INTERNATIONAL_CONVEYANCE_JAPAN  JPG11668  \n",
       "\n",
       "[61875 rows x 7 columns]"
      ]
     },
     "execution_count": 38,
     "metadata": {},
     "output_type": "execute_result"
    }
   ],
   "source": [
    "df_covid_data"
   ]
  },
  {
   "cell_type": "code",
   "execution_count": 50,
   "id": "fac5f6de",
   "metadata": {},
   "outputs": [],
   "source": [
    "# Remover valores em branco nos textos\n",
    "df_covid_data['countries_and_territories'] = df_covid_data['countries_and_territories'].apply(lambda x: x.strip())\n",
    "df_covid_data['geo_id'] = df_covid_data['geo_id'].apply(lambda x: x.strip())"
   ]
  },
  {
   "cell_type": "code",
   "execution_count": 51,
   "id": "c137f366",
   "metadata": {},
   "outputs": [
    {
     "data": {
      "text/plain": [
       "BRAZIL                                        350\n",
       "NETHERLANDS                                   350\n",
       "TAIWAN                                        350\n",
       "AUSTRIA                                       350\n",
       "SWITZERLAND                                   350\n",
       "                                             ... \n",
       "CASES_ON_AN_INTERNATIONAL_CONVEYANCE_JAPAN     63\n",
       "SOLOMON_ISLANDS                                60\n",
       "WALLIS_AND_FUTUNA                              59\n",
       "MARSHALL_ISLANDS                               47\n",
       "VANUATU                                        34\n",
       "Name: countries_and_territories, Length: 214, dtype: int64"
      ]
     },
     "execution_count": 51,
     "metadata": {},
     "output_type": "execute_result"
    }
   ],
   "source": [
    "# Quantidade de registros por territorio\n",
    "df_covid_data['countries_and_territories'].value_counts()"
   ]
  },
  {
   "cell_type": "code",
   "execution_count": 56,
   "id": "a2dcb845",
   "metadata": {},
   "outputs": [
    {
     "data": {
      "text/html": [
       "<div>\n",
       "<style scoped>\n",
       "    .dataframe tbody tr th:only-of-type {\n",
       "        vertical-align: middle;\n",
       "    }\n",
       "\n",
       "    .dataframe tbody tr th {\n",
       "        vertical-align: top;\n",
       "    }\n",
       "\n",
       "    .dataframe thead th {\n",
       "        text-align: right;\n",
       "    }\n",
       "</style>\n",
       "<table border=\"1\" class=\"dataframe\">\n",
       "  <thead>\n",
       "    <tr style=\"text-align: right;\">\n",
       "      <th></th>\n",
       "      <th>date</th>\n",
       "      <th>daily_confirmed_cases</th>\n",
       "      <th>daily_deaths</th>\n",
       "      <th>confirmed_cases</th>\n",
       "      <th>deaths</th>\n",
       "      <th>countries_and_territories</th>\n",
       "      <th>geo_id</th>\n",
       "    </tr>\n",
       "  </thead>\n",
       "  <tbody>\n",
       "  </tbody>\n",
       "</table>\n",
       "</div>"
      ],
      "text/plain": [
       "Empty DataFrame\n",
       "Columns: [date, daily_confirmed_cases, daily_deaths, confirmed_cases, deaths, countries_and_territories, geo_id]\n",
       "Index: []"
      ]
     },
     "execution_count": 56,
     "metadata": {},
     "output_type": "execute_result"
    }
   ],
   "source": [
    "# Verificar se ha valores duplicados\n",
    "bool_series = df_covid_data[[\"date\", 'countries_and_territories']].duplicated()\n",
    "df_covid_data[bool_series]"
   ]
  },
  {
   "cell_type": "markdown",
   "id": "ad6157cc",
   "metadata": {},
   "source": [
    "Apos tratamento, verificaremos se os territorios existentes, texto a texto afim de ver se ha algo inconsistente"
   ]
  },
  {
   "cell_type": "code",
   "execution_count": 55,
   "id": "17a6a705",
   "metadata": {},
   "outputs": [
    {
     "data": {
      "text/plain": [
       "array(['AFGHANISTAN', 'ALBANIA', 'ALGERIA', 'ANDORRA', 'ANGOLA',\n",
       "       'ANGUILLA', 'ANTIGUA_AND_BARBUDA', 'ARGENTINA', 'ARMENIA', 'ARUBA',\n",
       "       'AUSTRALIA', 'AUSTRIA', 'AZERBAIJAN', 'BAHAMAS', 'BAHRAIN',\n",
       "       'BANGLADESH', 'BARBADOS', 'BELARUS', 'BELGIUM', 'BELIZE', 'BENIN',\n",
       "       'BERMUDA', 'BHUTAN', 'BOLIVIA',\n",
       "       'BONAIRE, SAINT EUSTATIUS AND SABA', 'BOSNIA_AND_HERZEGOVINA',\n",
       "       'BOTSWANA', 'BRAZIL', 'BRITISH_VIRGIN_ISLANDS',\n",
       "       'BRUNEI_DARUSSALAM', 'BULGARIA', 'BURKINA_FASO', 'BURUNDI',\n",
       "       'CAMBODIA', 'CAMEROON', 'CANADA', 'CAPE_VERDE',\n",
       "       'CASES_ON_AN_INTERNATIONAL_CONVEYANCE_JAPAN', 'CAYMAN_ISLANDS',\n",
       "       'CENTRAL_AFRICAN_REPUBLIC', 'CHAD', 'CHILE', 'CHINA', 'COLOMBIA',\n",
       "       'COMOROS', 'CONGO', 'COSTA_RICA', 'COTE_DIVOIRE', 'CROATIA',\n",
       "       'CUBA', 'CURAÇAO', 'CYPRUS', 'CZECHIA',\n",
       "       'DEMOCRATIC_REPUBLIC_OF_THE_CONGO', 'DENMARK', 'DJIBOUTI',\n",
       "       'DOMINICA', 'DOMINICAN_REPUBLIC', 'ECUADOR', 'EGYPT',\n",
       "       'EL_SALVADOR', 'EQUATORIAL_GUINEA', 'ERITREA', 'ESTONIA',\n",
       "       'ESWATINI', 'ETHIOPIA', 'FALKLAND_ISLANDS_(MALVINAS)',\n",
       "       'FAROE_ISLANDS', 'FIJI', 'FINLAND', 'FRANCE', 'FRENCH_POLYNESIA',\n",
       "       'GABON', 'GAMBIA', 'GEORGIA', 'GERMANY', 'GHANA', 'GIBRALTAR',\n",
       "       'GREECE', 'GREENLAND', 'GRENADA', 'GUAM', 'GUATEMALA', 'GUERNSEY',\n",
       "       'GUINEA', 'GUINEA_BISSAU', 'GUYANA', 'HAITI', 'HOLY_SEE',\n",
       "       'HONDURAS', 'HUNGARY', 'ICELAND', 'INDIA', 'INDONESIA', 'IRAN',\n",
       "       'IRAQ', 'IRELAND', 'ISLE_OF_MAN', 'ISRAEL', 'ITALY', 'JAMAICA',\n",
       "       'JAPAN', 'JERSEY', 'JORDAN', 'KAZAKHSTAN', 'KENYA', 'KOSOVO',\n",
       "       'KUWAIT', 'KYRGYZSTAN', 'LAOS', 'LATVIA', 'LEBANON', 'LESOTHO',\n",
       "       'LIBERIA', 'LIBYA', 'LIECHTENSTEIN', 'LITHUANIA', 'LUXEMBOURG',\n",
       "       'MADAGASCAR', 'MALAWI', 'MALAYSIA', 'MALDIVES', 'MALI', 'MALTA',\n",
       "       'MARSHALL_ISLANDS', 'MAURITANIA', 'MAURITIUS', 'MEXICO', 'MOLDOVA',\n",
       "       'MONACO', 'MONGOLIA', 'MONTENEGRO', 'MONTSERRAT', 'MOROCCO',\n",
       "       'MOZAMBIQUE', 'MYANMAR', 'NAMIBIA', 'NEPAL', 'NETHERLANDS',\n",
       "       'NEW_CALEDONIA', 'NEW_ZEALAND', 'NICARAGUA', 'NIGER', 'NIGERIA',\n",
       "       'NORTHERN_MARIANA_ISLANDS', 'NORTH_MACEDONIA', 'NORWAY', 'OMAN',\n",
       "       'PAKISTAN', 'PALESTINE', 'PANAMA', 'PAPUA_NEW_GUINEA', 'PARAGUAY',\n",
       "       'PERU', 'PHILIPPINES', 'POLAND', 'PORTUGAL', 'PUERTO_RICO',\n",
       "       'QATAR', 'ROMANIA', 'RUSSIA', 'RWANDA', 'SAINT_KITTS_AND_NEVIS',\n",
       "       'SAINT_LUCIA', 'SAINT_VINCENT_AND_THE_GRENADINES', 'SAN_MARINO',\n",
       "       'SAO_TOME_AND_PRINCIPE', 'SAUDI_ARABIA', 'SENEGAL', 'SERBIA',\n",
       "       'SEYCHELLES', 'SIERRA_LEONE', 'SINGAPORE', 'SINT_MAARTEN',\n",
       "       'SLOVAKIA', 'SLOVENIA', 'SOLOMON_ISLANDS', 'SOMALIA',\n",
       "       'SOUTH_AFRICA', 'SOUTH_KOREA', 'SOUTH_SUDAN', 'SPAIN', 'SRI_LANKA',\n",
       "       'SUDAN', 'SURINAME', 'SWEDEN', 'SWITZERLAND', 'SYRIA', 'TAIWAN',\n",
       "       'TAJIKISTAN', 'THAILAND', 'TIMOR_LESTE', 'TOGO',\n",
       "       'TRINIDAD_AND_TOBAGO', 'TUNISIA', 'TURKEY',\n",
       "       'TURKS_AND_CAICOS_ISLANDS', 'UGANDA', 'UKRAINE',\n",
       "       'UNITED_ARAB_EMIRATES', 'UNITED_KINGDOM',\n",
       "       'UNITED_REPUBLIC_OF_TANZANIA', 'UNITED_STATES_OF_AMERICA',\n",
       "       'UNITED_STATES_VIRGIN_ISLANDS', 'URUGUAY', 'UZBEKISTAN', 'VANUATU',\n",
       "       'VENEZUELA', 'VIETNAM', 'WALLIS_AND_FUTUNA', 'WESTERN_SAHARA',\n",
       "       'YEMEN', 'ZAMBIA', 'ZIMBABWE'], dtype=object)"
      ]
     },
     "execution_count": 55,
     "metadata": {},
     "output_type": "execute_result"
    }
   ],
   "source": [
    "df_covid_data['countries_and_territories'].sort_values().unique()"
   ]
  },
  {
   "cell_type": "markdown",
   "id": "7182d773",
   "metadata": {},
   "source": [
    "Os textos referentes aos territorios sao congruentes, ainda mais considerando que foram acrescidos paises, ilhas e territorios sem dominio. Faz sentido haver tantos registros"
   ]
  },
  {
   "cell_type": "markdown",
   "id": "b2c56421",
   "metadata": {},
   "source": [
    "### Gerando dados\n",
    "\n",
    "<p>OS tramentos e analises foram feitos, sendo assim resta apenas gerar um novo dataset com os dados ja tratados</p>"
   ]
  },
  {
   "cell_type": "code",
   "execution_count": 57,
   "id": "9b033f9d",
   "metadata": {},
   "outputs": [
    {
     "ename": "FileNotFoundError",
     "evalue": "[Errno 2] No such file or directory: 'datasets/covid_data.csv'",
     "output_type": "error",
     "traceback": [
      "\u001b[0;31m---------------------------------------------------------------------------\u001b[0m",
      "\u001b[0;31mFileNotFoundError\u001b[0m                         Traceback (most recent call last)",
      "\u001b[0;32m<ipython-input-57-8fe9b9dc7e70>\u001b[0m in \u001b[0;36m<module>\u001b[0;34m\u001b[0m\n\u001b[0;32m----> 1\u001b[0;31m \u001b[0mdf_covid_data\u001b[0m\u001b[0;34m.\u001b[0m\u001b[0mto_csv\u001b[0m\u001b[0;34m(\u001b[0m\u001b[0;34m'datasets/covid_data.csv'\u001b[0m\u001b[0;34m,\u001b[0m \u001b[0mindex\u001b[0m \u001b[0;34m=\u001b[0m \u001b[0;32mFalse\u001b[0m\u001b[0;34m)\u001b[0m\u001b[0;34m\u001b[0m\u001b[0;34m\u001b[0m\u001b[0m\n\u001b[0m",
      "\u001b[0;32m~/anaconda3/lib/python3.8/site-packages/pandas/core/generic.py\u001b[0m in \u001b[0;36mto_csv\u001b[0;34m(self, path_or_buf, sep, na_rep, float_format, columns, header, index, index_label, mode, encoding, compression, quoting, quotechar, line_terminator, chunksize, date_format, doublequote, escapechar, decimal, errors, storage_options)\u001b[0m\n\u001b[1;32m   3385\u001b[0m         )\n\u001b[1;32m   3386\u001b[0m \u001b[0;34m\u001b[0m\u001b[0m\n\u001b[0;32m-> 3387\u001b[0;31m         return DataFrameRenderer(formatter).to_csv(\n\u001b[0m\u001b[1;32m   3388\u001b[0m             \u001b[0mpath_or_buf\u001b[0m\u001b[0;34m,\u001b[0m\u001b[0;34m\u001b[0m\u001b[0;34m\u001b[0m\u001b[0m\n\u001b[1;32m   3389\u001b[0m             \u001b[0mline_terminator\u001b[0m\u001b[0;34m=\u001b[0m\u001b[0mline_terminator\u001b[0m\u001b[0;34m,\u001b[0m\u001b[0;34m\u001b[0m\u001b[0;34m\u001b[0m\u001b[0m\n",
      "\u001b[0;32m~/anaconda3/lib/python3.8/site-packages/pandas/io/formats/format.py\u001b[0m in \u001b[0;36mto_csv\u001b[0;34m(self, path_or_buf, encoding, sep, columns, index_label, mode, compression, quoting, quotechar, line_terminator, chunksize, date_format, doublequote, escapechar, errors, storage_options)\u001b[0m\n\u001b[1;32m   1081\u001b[0m             \u001b[0mformatter\u001b[0m\u001b[0;34m=\u001b[0m\u001b[0mself\u001b[0m\u001b[0;34m.\u001b[0m\u001b[0mfmt\u001b[0m\u001b[0;34m,\u001b[0m\u001b[0;34m\u001b[0m\u001b[0;34m\u001b[0m\u001b[0m\n\u001b[1;32m   1082\u001b[0m         )\n\u001b[0;32m-> 1083\u001b[0;31m         \u001b[0mcsv_formatter\u001b[0m\u001b[0;34m.\u001b[0m\u001b[0msave\u001b[0m\u001b[0;34m(\u001b[0m\u001b[0;34m)\u001b[0m\u001b[0;34m\u001b[0m\u001b[0;34m\u001b[0m\u001b[0m\n\u001b[0m\u001b[1;32m   1084\u001b[0m \u001b[0;34m\u001b[0m\u001b[0m\n\u001b[1;32m   1085\u001b[0m         \u001b[0;32mif\u001b[0m \u001b[0mcreated_buffer\u001b[0m\u001b[0;34m:\u001b[0m\u001b[0;34m\u001b[0m\u001b[0;34m\u001b[0m\u001b[0m\n",
      "\u001b[0;32m~/anaconda3/lib/python3.8/site-packages/pandas/io/formats/csvs.py\u001b[0m in \u001b[0;36msave\u001b[0;34m(self)\u001b[0m\n\u001b[1;32m    226\u001b[0m         \"\"\"\n\u001b[1;32m    227\u001b[0m         \u001b[0;31m# apply compression and byte/text conversion\u001b[0m\u001b[0;34m\u001b[0m\u001b[0;34m\u001b[0m\u001b[0;34m\u001b[0m\u001b[0m\n\u001b[0;32m--> 228\u001b[0;31m         with get_handle(\n\u001b[0m\u001b[1;32m    229\u001b[0m             \u001b[0mself\u001b[0m\u001b[0;34m.\u001b[0m\u001b[0mfilepath_or_buffer\u001b[0m\u001b[0;34m,\u001b[0m\u001b[0;34m\u001b[0m\u001b[0;34m\u001b[0m\u001b[0m\n\u001b[1;32m    230\u001b[0m             \u001b[0mself\u001b[0m\u001b[0;34m.\u001b[0m\u001b[0mmode\u001b[0m\u001b[0;34m,\u001b[0m\u001b[0;34m\u001b[0m\u001b[0;34m\u001b[0m\u001b[0m\n",
      "\u001b[0;32m~/anaconda3/lib/python3.8/site-packages/pandas/io/common.py\u001b[0m in \u001b[0;36mget_handle\u001b[0;34m(path_or_buf, mode, encoding, compression, memory_map, is_text, errors, storage_options)\u001b[0m\n\u001b[1;32m    640\u001b[0m                 \u001b[0merrors\u001b[0m \u001b[0;34m=\u001b[0m \u001b[0;34m\"replace\"\u001b[0m\u001b[0;34m\u001b[0m\u001b[0;34m\u001b[0m\u001b[0m\n\u001b[1;32m    641\u001b[0m             \u001b[0;31m# Encoding\u001b[0m\u001b[0;34m\u001b[0m\u001b[0;34m\u001b[0m\u001b[0;34m\u001b[0m\u001b[0m\n\u001b[0;32m--> 642\u001b[0;31m             handle = open(\n\u001b[0m\u001b[1;32m    643\u001b[0m                 \u001b[0mhandle\u001b[0m\u001b[0;34m,\u001b[0m\u001b[0;34m\u001b[0m\u001b[0;34m\u001b[0m\u001b[0m\n\u001b[1;32m    644\u001b[0m                 \u001b[0mioargs\u001b[0m\u001b[0;34m.\u001b[0m\u001b[0mmode\u001b[0m\u001b[0;34m,\u001b[0m\u001b[0;34m\u001b[0m\u001b[0;34m\u001b[0m\u001b[0m\n",
      "\u001b[0;31mFileNotFoundError\u001b[0m: [Errno 2] No such file or directory: 'datasets/covid_data.csv'"
     ]
    }
   ],
   "source": [
    "df_covid_data.to_csv('datasets/covid_data.csv', index = False)"
   ]
  }
 ],
 "metadata": {
  "kernelspec": {
   "display_name": "Python 3",
   "language": "python",
   "name": "python3"
  },
  "language_info": {
   "codemirror_mode": {
    "name": "ipython",
    "version": 3
   },
   "file_extension": ".py",
   "mimetype": "text/x-python",
   "name": "python",
   "nbconvert_exporter": "python",
   "pygments_lexer": "ipython3",
   "version": "3.8.8"
  }
 },
 "nbformat": 4,
 "nbformat_minor": 5
}
